{
  "nbformat": 4,
  "nbformat_minor": 0,
  "metadata": {
    "colab": {
      "provenance": [],
      "authorship_tag": "ABX9TyPSRkeTCLfK9eHNNuOodl5r",
      "include_colab_link": true
    },
    "kernelspec": {
      "name": "python3",
      "display_name": "Python 3"
    },
    "language_info": {
      "name": "python"
    }
  },
  "cells": [
    {
      "cell_type": "markdown",
      "metadata": {
        "id": "view-in-github",
        "colab_type": "text"
      },
      "source": [
        "<a href=\"https://colab.research.google.com/github/SantiagoVictorIPN/App-IA-vs-Procastinacion/blob/main/N%C3%BAmeros_reales.ipynb\" target=\"_parent\"><img src=\"https://colab.research.google.com/assets/colab-badge.svg\" alt=\"Open In Colab\"/></a>"
      ]
    },
    {
      "cell_type": "code",
      "execution_count": null,
      "metadata": {
        "id": "KpxX3xNVCed6"
      },
      "outputs": [],
      "source": []
    },
    {
      "cell_type": "markdown",
      "source": [
        "Las propiedades de la aritmética son características y reglas que describen cómo se comportan los números y las operaciones aritméticas en diversas situaciones. Estas propiedades son fundamentales para realizar cálculos y resolver problemas en matemáticas. Algunas de las propiedades más importantes de la aritmética incluyen:\n",
        "\n",
        "1. **Propiedad Conmutativa**:\n",
        "   - Suma: a + b = b + a para cualquier par de números a y b.\n",
        "   - Multiplicación: a * b = b * a para cualquier par de números a y b.\n",
        "\n",
        "2. **Propiedad Asociativa**:\n",
        "   - Suma: (a + b) + c = a + (b + c) para cualquier conjunto de números a, b y c.\n",
        "   - Multiplicación: (a * b) * c = a * (b * c) para cualquier conjunto de números a, b y c.\n",
        "\n",
        "3. **Propiedad Distributiva**:\n",
        "   - La multiplicación se distribuye sobre la suma: a * (b + c) = (a * b) + (a * c) para cualquier conjunto de números a, b y c.\n",
        "\n",
        "4. **Propiedad del Elemento Neutro**:\n",
        "   - En suma, el elemento neutro es 0, ya que a + 0 = a para cualquier número a.\n",
        "   - En multiplicación, el elemento neutro es 1, ya que a * 1 = a para cualquier número a.\n",
        "\n",
        "5. **Propiedad del Elemento Inverso**:\n",
        "   - En suma, cada número a tiene un inverso aditivo o opuesto, que es -a, ya que a + (-a) = 0.\n",
        "   - En multiplicación, cada número a (diferente de 0) tiene un inverso multiplicativo, que es 1/a, ya que a * (1/a) = 1.\n",
        "\n",
        "6. **Propiedad del Inverso de Cero**:\n",
        "   - No existe un inverso multiplicativo para 0, ya que no puedes dividir por cero en aritmética.\n",
        "\n",
        "7. **Propiedad de la Identidad**:\n",
        "   - Esta propiedad establece que en una multiplicación sucesiva, el número 1 es el elemento de identidad, ya que a * 1 = a para cualquier número a.\n",
        "\n",
        "8. **Propiedad del Cero**:\n",
        "   - En multiplicación, cualquier número multiplicado por 0 es igual a 0, es decir, a * 0 = 0 para cualquier número a.\n",
        "   - En suma, la suma de 0 con cualquier número es igual al mismo número, es decir, a + 0 = a para cualquier número a.\n",
        "\n",
        "9. **Propiedad de Igualdad**:\n",
        "   - Si a = b, entonces se cumple que a + c = b + c y a * c = b * c para cualquier número c.\n",
        "\n",
        "10. **Propiedad de Opuestos**:\n",
        "    - Los opuestos de dos números suman cero: a + (-a) = 0.\n",
        "\n",
        "11. **Propiedad de Reciprocidad**:\n",
        "    - En multiplicación, el reciprocidad es válido: a * (1/a) = 1, siempre que a sea diferente de cero.\n",
        "\n",
        "12. **Propiedad de Potenciación**:\n",
        "    - Esta propiedad establece que a^(m+n) = a^m * a^n, lo que significa que cuando sumas los exponentes de una potencia con la misma base, puedes multiplicar las bases.\n",
        "\n",
        "Estas propiedades son esenciales para trabajar con números y operaciones aritméticas, y se aplican en una amplia variedad de contextos matemáticos y científicos."
      ],
      "metadata": {
        "id": "hoaUj2PKCmwY"
      }
    },
    {
      "cell_type": "code",
      "source": [
        "class Aritmetica:\n",
        "    def __init__(self, a, b):\n",
        "        self.a = a\n",
        "        self.b = b\n",
        "\n",
        "    def suma(self):\n",
        "        return self.a + self.b\n",
        "\n",
        "    def resta(self):\n",
        "        return self.a - self.b\n",
        "\n",
        "    def multiplicacion(self):\n",
        "        return self.a * self.b\n",
        "\n",
        "    def division(self):\n",
        "        if self.b != 0:\n",
        "            return self.a / self.b\n",
        "        else:\n",
        "            return \"No se puede dividir por cero.\"\n",
        "\n",
        "    @staticmethod\n",
        "    def propiedad_conmutativa_suma(a, b):\n",
        "        return a + b == b + a\n",
        "\n",
        "    @staticmethod\n",
        "    def propiedad_conmutativa_multiplicacion(a, b):\n",
        "        return a * b == b * a\n",
        "\n",
        "    @staticmethod\n",
        "    def propiedad_asociativa_suma(a, b, c):\n",
        "        return (a + b) + c == a + (b + c)\n",
        "\n",
        "    @staticmethod\n",
        "    def propiedad_asociativa_multiplicacion(a, b, c):\n",
        "        return (a * b) * c == a * (b * c)\n",
        "\n",
        "    @staticmethod\n",
        "    def propiedad_distributiva(a, b, c):\n",
        "        return a * (b + c) == (a * b) + (a * c)\n",
        "\n",
        "    @staticmethod\n",
        "    def propiedad_elemento_neutro_suma(a):\n",
        "        return a + 0 == a\n",
        "\n",
        "    @staticmethod\n",
        "    def propiedad_elemento_neutro_multiplicacion(a):\n",
        "        return a * 1 == a\n",
        "\n",
        "    @staticmethod\n",
        "    def propiedad_elemento_inverso_suma(a):\n",
        "        return a + (-a) == 0\n",
        "\n",
        "    @staticmethod\n",
        "    def propiedad_elemento_inverso_multiplicacion(a):\n",
        "        if a != 0:\n",
        "            return a * (1 / a) == 1\n",
        "        else:\n",
        "            return \"No se puede calcular el inverso multiplicativo de cero.\"\n",
        "\n",
        "    @staticmethod\n",
        "    def propiedad_de_igualdad(a, b, c):\n",
        "        return (a == b) and (a + c == b + c) and (a * c == b * c)\n",
        "\n",
        "    @staticmethod\n",
        "    def propiedad_de_opuestos(a):\n",
        "        return a + (-a) == 0\n",
        "\n",
        "    @staticmethod\n",
        "    def propiedad_de_reciprocidad(a):\n",
        "        if a != 0:\n",
        "            return a * (1 / a) == 1\n",
        "        else:\n",
        "            return \"No se puede calcular el reciprocidad de cero.\"\n",
        "\n",
        "    @staticmethod\n",
        "    def propiedad_de_potenciacion(a, m, n):\n",
        "        return a**(m + n) == (a**m) * (a**n)\n",
        "\n",
        "# Crear una instancia de la clase Aritmetica\n",
        "aritmetica = Aritmetica(3, 5)\n",
        "\n",
        "# Realizar operaciones aritméticas\n",
        "print(\"Suma:\", aritmetica.suma())\n",
        "print(\"Resta:\", aritmetica.resta())\n",
        "print(\"Multiplicación:\", aritmetica.multiplicacion())\n",
        "print(\"División:\", aritmetica.division())\n",
        "\n",
        "# Verificar propiedades\n",
        "print(\"Propiedad Conmutativa (Suma):\", Aritmetica.propiedad_conmutativa_suma(3, 5))\n",
        "print(\"Propiedad Conmutativa (Multiplicación):\", Aritmetica.propiedad_conmutativa_multiplicacion(3, 5))\n",
        "print(\"Propiedad Asociativa (Suma):\", Aritmetica.propiedad_asociativa_suma(2, 3, 4))\n",
        "print(\"Propiedad Asociativa (Multiplicación):\", Aritmetica.propiedad_asociativa_multiplicacion(2, 3, 4))\n",
        "print(\"Propiedad Distributiva:\", Aritmetica.propiedad_distributiva(2, 3, 4))\n",
        "# Y así sucesivamente para otras propiedades\n"
      ],
      "metadata": {
        "colab": {
          "base_uri": "https://localhost:8080/"
        },
        "id": "mARFjz3JC01X",
        "outputId": "eb139799-8ed1-4321-a0c5-4a7e5ac3caed"
      },
      "execution_count": 1,
      "outputs": [
        {
          "output_type": "stream",
          "name": "stdout",
          "text": [
            "Suma: 8\n",
            "Resta: -2\n",
            "Multiplicación: 15\n",
            "División: 0.6\n",
            "Propiedad Conmutativa (Suma): True\n",
            "Propiedad Conmutativa (Multiplicación): True\n",
            "Propiedad Asociativa (Suma): True\n",
            "Propiedad Asociativa (Multiplicación): True\n",
            "Propiedad Distributiva: True\n"
          ]
        }
      ]
    },
    {
      "cell_type": "markdown",
      "source": [],
      "metadata": {
        "id": "0Hbt7N2cDCZP"
      }
    },
    {
      "cell_type": "markdown",
      "source": [
        "Para 4 variables"
      ],
      "metadata": {
        "id": "5IqLDKLFDajM"
      }
    },
    {
      "cell_type": "code",
      "source": [
        "class Aritmetica:\n",
        "    def __init__(self, a, b, c, d):\n",
        "        self.a = a\n",
        "        self.b = b\n",
        "        self.c = c\n",
        "        self.d = d\n",
        "\n",
        "    def suma(self):\n",
        "        return self.a + self.b + self.c + self.d\n",
        "\n",
        "    def resta(self):\n",
        "        return self.a - self.b - self.c - self.d\n",
        "\n",
        "    def multiplicacion(self):\n",
        "        return self.a * self.b * self.c * self.d\n",
        "\n",
        "    def division(self):\n",
        "        if self.b != 0 and self.c != 0 and self.d != 0:\n",
        "            return self.a / self.b / self.c / self.d\n",
        "        else:\n",
        "            return \"No se puede dividir por cero.\"\n",
        "\n",
        "    @staticmethod\n",
        "    def propiedad_conmutativa_suma(a, b, c, d):\n",
        "        return (a + b + c + d) == (b + a + c + d)\n",
        "\n",
        "    @staticmethod\n",
        "    def propiedad_conmutativa_multiplicacion(a, b, c, d):\n",
        "        return (a * b * c * d) == (b * a * c * d)\n",
        "\n",
        "    @staticmethod\n",
        "    def propiedad_asociativa_suma(a, b, c, d):\n",
        "        return ((a + b) + c + d) == (a + (b + c) + d)\n",
        "\n",
        "    @staticmethod\n",
        "    def propiedad_asociativa_multiplicacion(a, b, c, d):\n",
        "        return ((a * b) * c * d) == (a * (b * c * d))\n",
        "\n",
        "    @staticmethod\n",
        "    def propiedad_distributiva(a, b, c, d):\n",
        "        return (a * (b + c + d)) == ((a * b) + (a * c) + (a * d))\n",
        "\n",
        "    @staticmethod\n",
        "    def propiedad_elemento_neutro_suma(a):\n",
        "        return (a + 0 == a)\n",
        "\n",
        "    @staticmethod\n",
        "    def propiedad_elemento_neutro_multiplicacion(a):\n",
        "        return (a * 1 == a)\n",
        "\n",
        "    @staticmethod\n",
        "    def propiedad_elemento_inverso_suma(a):\n",
        "        return (a + (-a) == 0)\n",
        "\n",
        "    @staticmethod\n",
        "    def propiedad_elemento_inverso_multiplicacion(a):\n",
        "        if a != 0:\n",
        "            return (a * (1 / a) == 1)\n",
        "        else:\n",
        "            return \"No se puede calcular el inverso multiplicativo de cero.\"\n",
        "\n",
        "    @staticmethod\n",
        "    def propiedad_de_igualdad(a, b, c, d, e, f, g, h):\n",
        "        return (a == b == c == d == e == f == g == h)\n",
        "\n",
        "    @staticmethod\n",
        "    def propiedad_de_opuestos(a):\n",
        "        return (a + (-a) == 0)\n",
        "\n",
        "    @staticmethod\n",
        "    def propiedad_de_reciprocidad(a):\n",
        "        if a != 0:\n",
        "            return (a * (1 / a) == 1)\n",
        "        else:\n",
        "            return \"No se puede calcular la reciprocidad de cero.\"\n",
        "\n",
        "    @staticmethod\n",
        "    def propiedad_de_potenciacion(a, m, n):\n",
        "        return (a**(m + n) == (a**m) * (a**n))\n",
        "# Crear una instancia de la clase Aritmetica con 4 variables\n",
        "aritmetica = Aritmetica(3, 5, 2, 4)\n",
        "\n",
        "# Realizar operaciones aritméticas\n",
        "print(\"Suma:\", aritmetica.suma())\n",
        "print(\"Resta:\", aritmetica.resta())\n",
        "print(\"Multiplicación:\", aritmetica.multiplicacion())\n",
        "print(\"División:\", aritmetica.division())\n",
        "\n",
        "# Verificar propiedades\n",
        "print(\"Propiedad Conmutativa (Suma):\", Aritmetica.propiedad_conmutativa_suma(3, 5, 2, 4))\n",
        "print(\"Propiedad Conmutativa (Multiplicación):\", Aritmetica.propiedad_conmutativa_multiplicacion(3, 5, 2, 4))\n",
        "# Y así sucesivamente para otras propiedades con 4 variables\n"
      ],
      "metadata": {
        "colab": {
          "base_uri": "https://localhost:8080/"
        },
        "id": "pedyqp-SDdnA",
        "outputId": "8867ed0f-6cc8-40ce-db24-3c9b0c2320df"
      },
      "execution_count": 2,
      "outputs": [
        {
          "output_type": "stream",
          "name": "stdout",
          "text": [
            "Suma: 14\n",
            "Resta: -8\n",
            "Multiplicación: 120\n",
            "División: 0.075\n",
            "Propiedad Conmutativa (Suma): True\n",
            "Propiedad Conmutativa (Multiplicación): True\n"
          ]
        }
      ]
    },
    {
      "cell_type": "markdown",
      "source": [
        "Propiedades de la igualdad:\n",
        "Si a=b y c es cualquier número real, entonces\n",
        "a+c=b+c\n",
        "ac=bc\n"
      ],
      "metadata": {
        "id": "dQZY_nVwH58e"
      }
    },
    {
      "cell_type": "code",
      "source": [
        "class PropiedadesDeLaIgualdad:\n",
        "    def __init__(self, valor):\n",
        "        self.valor = valor\n",
        "\n",
        "    def __str__(self):\n",
        "        return str(self.valor)\n",
        "\n",
        "    def suma(self, otro_numero):\n",
        "        return PropiedadesDeLaIgualdad(self.valor + otro_numero.valor)\n",
        "\n",
        "    def multiplicacion(self, otro_numero):\n",
        "        return PropiedadesDeLaIgualdad(self.valor * otro_numero.valor)\n",
        "\n",
        "    def es_igual_a(self, otro_numero):\n",
        "        return self.valor == otro_numero.valor\n",
        "\n",
        "# Ejemplos de uso\n",
        "a = PropiedadesDeLaIgualdad(5)\n",
        "b = PropiedadesDeLaIgualdad(5)\n",
        "c = PropiedadesDeLaIgualdad(3)\n",
        "\n",
        "# Comprobación de la propiedad a + c = b + c\n",
        "resultado1 = a.suma(c).es_igual_a(b.suma(c))\n",
        "print(f'{a} + {c} = {b} + {c}: {resultado1}')\n",
        "\n",
        "# Comprobación de la propiedad a * c = b * c\n",
        "resultado2 = a.multiplicacion(c).es_igual_a(b.multiplicacion(c))\n",
        "print(f'{a} * {c} = {b} * {c}: {resultado2}')\n"
      ],
      "metadata": {
        "colab": {
          "base_uri": "https://localhost:8080/"
        },
        "id": "foDYZSGGING_",
        "outputId": "7afdcdea-1b4d-42a2-87a8-6da4bdfc4a9e"
      },
      "execution_count": 5,
      "outputs": [
        {
          "output_type": "stream",
          "name": "stdout",
          "text": [
            "5 + 3 = 5 + 3: True\n",
            "5 * 3 = 5 * 3: True\n"
          ]
        }
      ]
    },
    {
      "cell_type": "markdown",
      "source": [
        "Productos que involucran el 0:\n",
        "\n",
        "a*0=0 para todo número real a\n",
        "Si ab=0, entonces a=0 o b=0\n"
      ],
      "metadata": {
        "id": "jRgYlztoFVUy"
      }
    },
    {
      "cell_type": "code",
      "source": [
        "class ProductosQueInvolucranEl0:\n",
        "    def __init__(self, valor):\n",
        "        self.valor = valor\n",
        "\n",
        "    def __str__(self):\n",
        "        return str(self.valor)\n",
        "\n",
        "    def multiplicar_por_cero(self):\n",
        "        return ProductosQueInvolucranEl0(0)\n",
        "\n",
        "    def es_cero(self):\n",
        "        return self.valor == 0\n",
        "\n",
        "    def es_igual_a(self, otro_numero):\n",
        "        return self.valor == otro_numero.valor\n",
        "\n",
        "    @staticmethod\n",
        "    def multiplicacion_es_cero(a, b):\n",
        "        return a.es_cero() or b.es_cero()\n",
        "\n",
        "# Ejemplos de uso\n",
        "a = ProductosQueInvolucranEl0(5)\n",
        "b = ProductosQueInvolucranEl0(0)\n",
        "c = ProductosQueInvolucranEl0(7)\n",
        "\n",
        "resultado1 = a.multiplicar_por_cero()\n",
        "print(f'{a} * 0 = {resultado1}')\n",
        "\n",
        "resultado2 = ProductosQueInvolucranEl0.multiplicacion_es_cero(a, b)\n",
        "print(f'Si {a} * {b}, entonces a=0 o b=0: {resultado2}')\n",
        "\n",
        "resultado3 = ProductosQueInvolucranEl0.multiplicacion_es_cero(a, c)\n",
        "print(f'Si {a} * {c}, entonces a=0 o c=0: {resultado3}')\n"
      ],
      "metadata": {
        "colab": {
          "base_uri": "https://localhost:8080/"
        },
        "id": "-vHzq_N8GfIG",
        "outputId": "ee48e687-6359-4099-a480-86fb88b4af23"
      },
      "execution_count": 4,
      "outputs": [
        {
          "output_type": "stream",
          "name": "stdout",
          "text": [
            "5 * 0 = 0\n",
            "Si 5 * 0, entonces a=0 o b=0: True\n",
            "Si 5 * 7, entonces a=0 o c=0: False\n"
          ]
        }
      ]
    },
    {
      "cell_type": "markdown",
      "source": [
        "\n",
        "\n",
        "1. **Inverso del Opuesto**:\n",
        "   - La propiedad \"-(-a) = a\" establece que el opuesto del opuesto de un número es igual al número original. Esto significa que si tomas el opuesto de un número negativo, obtendrás el número positivo correspondiente.\n",
        "\n",
        "2. **Negativo del Producto**:\n",
        "   - La propiedad \"(-a) * b = -(ab) = a * (-b)\" se refiere al hecho de que el producto de un número negativo por otro número (positivo o negativo) es igual al negativo del producto de los valores absolutos de esos números. Esto implica que cambiar el signo de uno de los factores cambia el signo del producto resultante.\n",
        "\n",
        "3. **Producto de Negativos**:\n",
        "   - La propiedad \"(-a) * (-b) = ab\" establece que el producto de dos números negativos es igual al producto de sus valores absolutos. En otras palabras, si ambos factores son negativos, el producto será positivo.\n",
        "\n",
        "4. **Negativo de 1**:\n",
        "   - La propiedad \"(-1) * a = -a\" simplemente establece que el producto de -1 por cualquier número \"a\" es igual al opuesto de \"a\". Esto es útil en situaciones donde deseas cambiar el signo de un número.\n",
        "\n"
      ],
      "metadata": {
        "id": "ElhKTx_oK-2p"
      }
    },
    {
      "cell_type": "code",
      "source": [
        "class PropiedadesNegativos:\n",
        "    @staticmethod\n",
        "    def inverso_del_opuesto(a):\n",
        "        # Propiedad: -(-a) = a\n",
        "        return -(-a)\n",
        "\n",
        "    @staticmethod\n",
        "    def negativo_del_producto(a, b):\n",
        "        # Propiedad: (-a) * b = -(ab) = a * (-b)\n",
        "        return -a * b\n",
        "\n",
        "    @staticmethod\n",
        "    def producto_de_negativos(a, b):\n",
        "        # Propiedad: (-a) * (-b) = ab\n",
        "        return -a * -b\n",
        "\n",
        "    @staticmethod\n",
        "    def negativo_de_1_por_a(a):\n",
        "        # Propiedad: (-1) * a = -a\n",
        "        return -1 * a\n",
        "\n",
        "# Ejemplo de uso de las propiedades\n",
        "num = -5\n",
        "\n",
        "print(\"Inverso del Opuesto:\", PropiedadesNegativos.inverso_del_opuesto(num))\n",
        "print(\"Negativo del Producto:\", PropiedadesNegativos.negativo_del_producto(num, 3))\n",
        "print(\"Producto de Negativos:\", PropiedadesNegativos.producto_de_negativos(num, -2))\n",
        "print(\"Negativo de 1 por a:\", PropiedadesNegativos.negativo_de_1_por_a(num))\n"
      ],
      "metadata": {
        "colab": {
          "base_uri": "https://localhost:8080/"
        },
        "id": "_MwZBRTXLDBe",
        "outputId": "c873d372-ab70-4d46-d579-bf82429047b0"
      },
      "execution_count": 6,
      "outputs": [
        {
          "output_type": "stream",
          "name": "stdout",
          "text": [
            "Inverso del Opuesto: -5\n",
            "Negativo del Producto: 15\n",
            "Producto de Negativos: 10\n",
            "Negativo de 1 por a: 5\n"
          ]
        }
      ]
    },
    {
      "cell_type": "markdown",
      "source": [
        "**Notación de recíprocos:**\n",
        "Si \"a\" es un número real distinto de cero (a ≠ 0), entonces a^-1 = 1/a.\n"
      ],
      "metadata": {
        "id": "MlhbBTonMRCF"
      }
    },
    {
      "cell_type": "code",
      "source": [
        "class NotacionReciprocos:\n",
        "    def __init__(self, a):\n",
        "        if a == 0:\n",
        "            raise ValueError(\"El número 'a' no puede ser cero.\")\n",
        "        self.a = a\n",
        "\n",
        "    def reciproco(self):\n",
        "        return 1 / self.a\n",
        "\n",
        "# Ejemplo de uso de la notación de recíprocos\n",
        "numero_a = 5\n",
        "\n",
        "try:\n",
        "    rec = NotacionReciprocos(numero_a)\n",
        "    print(f\"Recíproco de {numero_a} es: {rec.reciproco()}\")\n",
        "except ValueError as e:\n",
        "    print(e)\n"
      ],
      "metadata": {
        "colab": {
          "base_uri": "https://localhost:8080/"
        },
        "id": "4KvWuwLmMlga",
        "outputId": "50170b0b-2a7a-4456-eb66-0ddb504d7723"
      },
      "execution_count": 7,
      "outputs": [
        {
          "output_type": "stream",
          "name": "stdout",
          "text": [
            "Recíproco de 5 es: 0.2\n"
          ]
        }
      ]
    },
    {
      "cell_type": "markdown",
      "source": [
        "**Operaciones resta - y división ÷:**\n",
        "\n",
        "a-b=a+(-b)\n",
        "a÷b=a*(1/b)=a*b^-1; b≠0\n"
      ],
      "metadata": {
        "id": "TymVrCn6O2f8"
      }
    },
    {
      "cell_type": "code",
      "source": [
        "class OperacionesAritmeticas:\n",
        "    def __init__(self, a, b):\n",
        "        self.a = a\n",
        "        self.b = b\n",
        "\n",
        "    def resta(self):\n",
        "        # Resta a - b = a + (-b)\n",
        "        return self.a + (-self.b)\n",
        "\n",
        "    def division(self):\n",
        "        # División a ÷ b = a * (1/b) = a * b^(-1)\n",
        "        if self.b == 0:\n",
        "            raise ValueError(\"El divisor 'b' no puede ser igual a cero.\")\n",
        "        return self.a * (1 / self.b)\n",
        "\n",
        "# Ejemplo de uso de las operaciones\n",
        "numero_a = 10\n",
        "numero_b = 3\n",
        "\n",
        "operaciones = OperacionesAritmeticas(numero_a, numero_b)\n",
        "\n",
        "# Resta\n",
        "resultado_resta = operaciones.resta()\n",
        "print(f\"{numero_a} - {numero_b} = {resultado_resta}\")\n",
        "\n",
        "# División\n",
        "try:\n",
        "    resultado_division = operaciones.division()\n",
        "    print(f\"{numero_a} ÷ {numero_b} = {resultado_division}\")\n",
        "except ValueError as e:\n",
        "    print(e)\n"
      ],
      "metadata": {
        "colab": {
          "base_uri": "https://localhost:8080/"
        },
        "id": "Nxav61jDO-Lj",
        "outputId": "b4d7b73b-c83d-41e3-9a19-0018352b6ec3"
      },
      "execution_count": 8,
      "outputs": [
        {
          "output_type": "stream",
          "name": "stdout",
          "text": [
            "10 - 3 = 7\n",
            "10 ÷ 3 = 3.333333333333333\n"
          ]
        }
      ]
    },
    {
      "cell_type": "markdown",
      "source": [
        "**Propiedades en aritmética  de los cocientes siempre que todos los denominadores sean números reales diferentes de cero:**\n",
        "\n",
        "Si a/b=c/d entonces ad=bc\n",
        "(ad)/(bd)=a/b\n",
        "a/(-b)=(-a)/b=-(a/b)\n",
        "a/b+c/b=(a+c)/b\n",
        "(a/b)+(c/d)=(ad+bc)/bd\n",
        "(a/b) * (c/d) = (a * c) / (b * d)\n",
        "(a/b) / (c/d) = (a/b) * (d/c) = (a * d) / (b * c)\n"
      ],
      "metadata": {
        "id": "4Hd6Ey8hSf0I"
      }
    },
    {
      "cell_type": "code",
      "source": [
        "class Fraccion:\n",
        "    def __init__(self, numerador, denominador):\n",
        "        self.numerador = numerador\n",
        "        self.denominador = denominador\n",
        "\n",
        "    def multiplicar(self, otra_fraccion):\n",
        "        nuevo_numerador = self.numerador * otra_fraccion.numerador\n",
        "        nuevo_denominador = self.denominador * otra_fraccion.denominador\n",
        "        return Fraccion(nuevo_numerador, nuevo_denominador)\n",
        "\n",
        "    def dividir(self, otra_fraccion):\n",
        "        inverso_otra_fraccion = Fraccion(otra_fraccion.denominador, otra_fraccion.numerador)\n",
        "        return self.multiplicar(inverso_otra_fraccion)\n",
        "\n",
        "    def __str__(self):\n",
        "        return f\"{self.numerador}/{self.denominador}\"\n",
        "\n",
        "# Ejemplo de uso\n",
        "fraccion1 = Fraccion(1, 2)\n",
        "fraccion2 = Fraccion(3, 4)\n",
        "\n",
        "# Multiplicación de fracciones\n",
        "resultado_multiplicacion = fraccion1.multiplicar(fraccion2)\n",
        "print(f\"Multiplicación: {fraccion1} * {fraccion2} = {resultado_multiplicacion}\")\n",
        "\n",
        "# División de fracciones\n",
        "resultado_division = fraccion1.dividir(fraccion2)\n",
        "print(f\"División: {fraccion1} / {fraccion2} = {resultado_division}\")\n"
      ],
      "metadata": {
        "colab": {
          "base_uri": "https://localhost:8080/"
        },
        "id": "-YzmdiD_SkrR",
        "outputId": "8043bedb-d803-407c-f950-56b6d8242037"
      },
      "execution_count": 9,
      "outputs": [
        {
          "output_type": "stream",
          "name": "stdout",
          "text": [
            "Multiplicación: 1/2 * 3/4 = 3/8\n",
            "División: 1/2 / 3/4 = 4/6\n"
          ]
        }
      ]
    },
    {
      "cell_type": "markdown",
      "source": [
        "La **recta real** (\\(\\mathbb{R}\\)) es una línea infinitamente larga y continua en ambas direcciones que representa todos los números reales. Esta línea se asocia con un **sistema de coordenadas**, pero no tiene un punto de origen específico. Los puntos en la recta real se corresponden uno a uno con los números reales. La dirección positiva generalmente se elige hacia la derecha, mientras que la dirección negativa es hacia la izquierda. Los números reales positivos están en la dirección positiva, y los números reales negativos están en la dirección negativa.\n",
        "R={x∣x es un número real}"
      ],
      "metadata": {
        "id": "tYUfWuFQUG2c"
      }
    },
    {
      "cell_type": "markdown",
      "source": [
        "**Relación entre a y -a:**\n",
        "\n",
        "Si a es positivo, entonces -a es negativo.\n",
        "Si a es negativo, entonces -a es positivo.\n"
      ],
      "metadata": {
        "id": "5dESJdI2VgUn"
      }
    },
    {
      "cell_type": "code",
      "source": [
        "class NumeroReal:\n",
        "    def __init__(self, valor):\n",
        "        self.valor = valor\n",
        "\n",
        "    def opuesto(self):\n",
        "        return NumeroReal(-self.valor)\n",
        "\n",
        "    def __str__(self):\n",
        "        return str(self.valor)\n",
        "\n",
        "# Ejemplo de uso\n",
        "a = NumeroReal(5)  # Creamos un objeto con el valor 5\n",
        "opuesto_a = a.opuesto()  # Calculamos el opuesto de 'a'\n",
        "\n",
        "print(f\"a = {a}\")\n",
        "print(f\"-a = {opuesto_a}\")\n"
      ],
      "metadata": {
        "colab": {
          "base_uri": "https://localhost:8080/"
        },
        "id": "Q3pAFVYzVmPq",
        "outputId": "b38addc1-89e0-4a15-d39b-6f2d9fdde5d6"
      },
      "execution_count": 10,
      "outputs": [
        {
          "output_type": "stream",
          "name": "stdout",
          "text": [
            "a = 5\n",
            "-a = -5\n"
          ]
        }
      ]
    },
    {
      "cell_type": "markdown",
      "source": [
        "**Nociones mayor que y menor que para números reales:**\n",
        "\n",
        "Si a es mayor que b, es decir a>b, a-b es positivo.\n",
        "Si a es menor que b, es decir a<b, a-b es negativo.\n"
      ],
      "metadata": {
        "id": "a2J7dnFwXeAk"
      }
    },
    {
      "cell_type": "code",
      "source": [
        "class ComparadorNumerosReales:\n",
        "    def __init__(self, a, b):\n",
        "        self.a = a\n",
        "        self.b = b\n",
        "\n",
        "    def es_mayor_que(self):\n",
        "        return self.a > self.b\n",
        "\n",
        "    def es_menor_que(self):\n",
        "        return self.a < self.b\n",
        "\n",
        "    def diferencia_positiva(self):\n",
        "        return self.a - self.b > 0\n",
        "\n",
        "    def diferencia_negativa(self):\n",
        "        return self.a - self.b < 0\n",
        "\n",
        "# Ejemplo de uso\n",
        "a = 7\n",
        "b = 3\n",
        "\n",
        "comparador = ComparadorNumerosReales(a, b)\n",
        "\n",
        "if comparador.es_mayor_que():\n",
        "    print(f\"{a} es mayor que {b}\")\n",
        "elif comparador.es_menor_que():\n",
        "    print(f\"{a} es menor que {b}\")\n",
        "\n",
        "if comparador.diferencia_positiva():\n",
        "    print(f\"La diferencia {a} - {b} es positiva\")\n",
        "elif comparador.diferencia_negativa():\n",
        "    print(f\"La diferencia {a} - {b} es negativa\")\n"
      ],
      "metadata": {
        "colab": {
          "base_uri": "https://localhost:8080/"
        },
        "id": "_ooP1knSXhQ9",
        "outputId": "d07626a3-ff32-4e71-f2de-431c5d4f84cc"
      },
      "execution_count": 11,
      "outputs": [
        {
          "output_type": "stream",
          "name": "stdout",
          "text": [
            "7 es mayor que 3\n",
            "La diferencia 7 - 3 es positiva\n"
          ]
        }
      ]
    },
    {
      "cell_type": "markdown",
      "source": [
        "**La ley de tricotomía**\n",
        "\n",
        "Para cualquier par de números reales \\(a\\) y \\(b\\), se cumple una y solo una de las siguientes tres afirmaciones:\n",
        "\n",
        "1. \\(a\\) es menor que \\(b\\), es decir, \\(a < b\\).\n",
        "2. \\(a\\) es igual a \\(b\\), es decir, \\(a = b\\).\n",
        "3. \\(a\\) es mayor que \\(b\\), es decir, \\(a > b\\).\n",
        "\n",
        "En otras palabras, no puede existir ninguna otra posibilidad; un par de números reales siempre se puede clasificar en una de estas tres categorías:\n",
        "\n",
        "- \\(a\\) es menor que \\(b\\),\n",
        "- \\(a\\) es igual a \\(b\\), o\n",
        "- \\(a\\) es mayor que \\(b\\).\n",
        "\n"
      ],
      "metadata": {
        "id": "8sE7QHkFZrQc"
      }
    },
    {
      "cell_type": "code",
      "source": [
        "class LeyDeTricotomia:\n",
        "    def __init__(self, a, b):\n",
        "        self.a = a\n",
        "        self.b = b\n",
        "\n",
        "    def comparar(self):\n",
        "        if self.a < self.b:\n",
        "            return \"a es menor que b\"\n",
        "        elif self.a == self.b:\n",
        "            return \"a es igual a b\"\n",
        "        else:\n",
        "            return \"a es mayor que b\"\n",
        "\n",
        "# Ejemplo de uso\n",
        "a = 5\n",
        "b = 7\n",
        "\n",
        "ley = LeyDeTricotomia(a, b)\n",
        "resultado = ley.comparar()\n",
        "\n",
        "print(resultado)\n"
      ],
      "metadata": {
        "colab": {
          "base_uri": "https://localhost:8080/"
        },
        "id": "_OKcjXxbZ6go",
        "outputId": "5157b589-87fc-456e-b46f-354eef93e85e"
      },
      "execution_count": 12,
      "outputs": [
        {
          "output_type": "stream",
          "name": "stdout",
          "text": [
            "a es menor que b\n"
          ]
        }
      ]
    },
    {
      "cell_type": "markdown",
      "source": [
        "Leyes de los signos:\n",
        "\n",
        "1. **Ley de la multiplicación de signos iguales:** Si tienes dos números reales \\(a\\) y \\(b\\) con el mismo signo (ambos positivos o ambos negativos), entonces la multiplicación de \\(a\\) por \\(b\\) siempre da como resultado un número real positivo:\n",
        "\n",
        "   \\[a*b > 0\\]\n",
        "\n",
        "2. **Ley de la multiplicación de signos opuestos:** Si tienes dos números reales \\(a\\) y \\(b\\) con signos opuestos (uno positivo y el otro negativo), entonces la multiplicación de \\(a\\) por \\(b\\) siempre da como resultado un número real negativo:\n",
        "\n",
        "   \\[a*b < 0\\]\n",
        "\n",
        "3. **Ley de la división de signos iguales:** Si divides dos números reales \\(a\\) y \\(b\\) con el mismo signo (ambos positivos o ambos negativos), el resultado de la división siempre es un número real positivo:\n",
        "\n",
        "   \\[a/b > 0\\]\n",
        "\n",
        "4. **Ley de la división de signos opuestos:** Si divides dos números reales \\(a\\) y \\(b\\) con signos opuestos (uno positivo y el otro negativo), el resultado de la división siempre es un número real negativo:\n",
        "\n",
        "   \\[a/b < 0\\]\n",
        "\n"
      ],
      "metadata": {
        "id": "d1ZyDkGVbO77"
      }
    },
    {
      "cell_type": "code",
      "source": [
        "class LeyesDeLosSignos:\n",
        "    @staticmethod\n",
        "    def multiplicacion_signos_iguales(a, b):\n",
        "        return a * b > 0\n",
        "\n",
        "    @staticmethod\n",
        "    def multiplicacion_signos_opuestos(a, b):\n",
        "        return a * b < 0\n",
        "\n",
        "    @staticmethod\n",
        "    def division_signos_iguales(a, b):\n",
        "        return a / b > 0\n",
        "\n",
        "    @staticmethod\n",
        "    def division_signos_opuestos(a, b):\n",
        "        return a / b < 0\n",
        "\n",
        "# Ejemplo de uso\n",
        "a = 3\n",
        "b = -2\n",
        "\n",
        "leyes = LeyesDeLosSignos()\n",
        "\n",
        "print(f\"Multiplicación de signos iguales: {leyes.multiplicacion_signos_iguales(a, b)}\")\n",
        "print(f\"Multiplicación de signos opuestos: {leyes.multiplicacion_signos_opuestos(a, b)}\")\n",
        "print(f\"División de signos iguales: {leyes.division_signos_iguales(a, b)}\")\n",
        "print(f\"División de signos opuestos: {leyes.division_signos_opuestos(a, b)}\")\n"
      ],
      "metadata": {
        "colab": {
          "base_uri": "https://localhost:8080/"
        },
        "id": "nvbMk2ESbl8E",
        "outputId": "d9010223-f9cf-449f-c6e8-84d0d2dd5bf2"
      },
      "execution_count": 13,
      "outputs": [
        {
          "output_type": "stream",
          "name": "stdout",
          "text": [
            "Multiplicación de signos iguales: False\n",
            "Multiplicación de signos opuestos: True\n",
            "División de signos iguales: False\n",
            "División de signos opuestos: True\n"
          ]
        }
      ]
    },
    {
      "cell_type": "markdown",
      "source": [
        "**Valor absoluto:**\n",
        "\n",
        "El valor absoluto de un número real x, denotado como ∣x∣, se define matemáticamente como la distancia de x al origen (cero) en la recta numérica. Es la magnitud de un número real sin tener en cuenta su signo. Formalmente, se define de la siguiente manera:\n",
        "Si x es mayor o igual que cero (x≥0), entonces ∣x∣=x.\n",
        "Si x es menor que cero (x<0), entonces ∣x∣=−x.\n"
      ],
      "metadata": {
        "id": "sOJHR-5hdUFp"
      }
    },
    {
      "cell_type": "code",
      "source": [
        "class ValorAbsoluto:\n",
        "    def __init__(self, numero):\n",
        "        self.numero = numero\n",
        "\n",
        "    def calcular_valor_absoluto(self):\n",
        "        if self.numero >= 0:\n",
        "            return self.numero\n",
        "        else:\n",
        "            return -self.numero\n",
        "\n",
        "# Ejemplo de uso\n",
        "numero1 = 5\n",
        "numero2 = -7\n",
        "\n",
        "valor1 = ValorAbsoluto(numero1)\n",
        "valor2 = ValorAbsoluto(numero2)\n",
        "\n",
        "print(f\"El valor absoluto de {numero1} es {valor1.calcular_valor_absoluto()}\")\n",
        "print(f\"El valor absoluto de {numero2} es {valor2.calcular_valor_absoluto()}\")\n"
      ],
      "metadata": {
        "colab": {
          "base_uri": "https://localhost:8080/"
        },
        "id": "NKReelEfdgah",
        "outputId": "1ade6f65-d137-4bd1-bb9a-ef6d836b9bab"
      },
      "execution_count": 14,
      "outputs": [
        {
          "output_type": "stream",
          "name": "stdout",
          "text": [
            "El valor absoluto de 5 es 5\n",
            "El valor absoluto de -7 es 7\n"
          ]
        }
      ]
    },
    {
      "cell_type": "markdown",
      "source": [
        "**Definición de distancia entre los puntos de una recta de coordenadas:**\n",
        "\n",
        "Sean a y b las coordenadas de dos puntos A y B, respectivamente, sobre una recta de coordenadas. La distancia entre A y B, que se denota por d(A,B), se define como\n",
        "d(A,B)=|b-a|"
      ],
      "metadata": {
        "id": "UjJUFktVfgze"
      }
    },
    {
      "cell_type": "code",
      "source": [
        "class Punto:\n",
        "    def __init__(self, coordenada):\n",
        "        self.coordenada = coordenada\n",
        "\n",
        "class DistanciaEntrePuntos:\n",
        "    def __init__(self, punto1, punto2):\n",
        "        self.punto1 = punto1\n",
        "        self.punto2 = punto2\n",
        "\n",
        "    def calcular_distancia(self):\n",
        "        distancia = abs(self.punto2.coordenada - self.punto1.coordenada)\n",
        "        return distancia\n",
        "\n",
        "# Ejemplo de uso\n",
        "coordenada_A = 3\n",
        "coordenada_B = 7\n",
        "\n",
        "punto_A = Punto(coordenada_A)\n",
        "punto_B = Punto(coordenada_B)\n",
        "\n",
        "distancia_calculada = DistanciaEntrePuntos(punto_A, punto_B).calcular_distancia()\n",
        "\n",
        "print(f\"La distancia entre los puntos A y B es {distancia_calculada} unidades.\")\n"
      ],
      "metadata": {
        "colab": {
          "base_uri": "https://localhost:8080/"
        },
        "id": "255vujfSfkYo",
        "outputId": "238b836d-61d1-4fe8-bb92-47559220ac6d"
      },
      "execution_count": 15,
      "outputs": [
        {
          "output_type": "stream",
          "name": "stdout",
          "text": [
            "La distancia entre los puntos A y B es 4 unidades.\n"
          ]
        }
      ]
    },
    {
      "cell_type": "markdown",
      "source": [
        "**Forma científica:**\n",
        "\n",
        "Un número real x se puede expresar en forma científica como:\n",
        "x=m×10^n, donde 1≤m<10 y n es un entero.\n"
      ],
      "metadata": {
        "id": "S_CYzhPng-zM"
      }
    },
    {
      "cell_type": "code",
      "source": [
        "class FormaCientifica:\n",
        "    def __init__(self, numero):\n",
        "        self.numero = numero\n",
        "\n",
        "    def convertir_a_notacion_cientifica(self):\n",
        "        exponente = 0\n",
        "\n",
        "        # Normalizar el número para que esté en el rango [1, 10)\n",
        "        while abs(self.numero) >= 10:\n",
        "            self.numero /= 10\n",
        "            exponente += 1\n",
        "\n",
        "        while abs(self.numero) < 1:\n",
        "            self.numero *= 10\n",
        "            exponente -= 1\n",
        "\n",
        "        return f\"{self.numero} x 10^{exponente}\"\n",
        "\n",
        "# Ejemplo de uso\n",
        "numero_decimal = 12345.6789\n",
        "\n",
        "forma_cientifica = FormaCientifica(numero_decimal)\n",
        "resultado = forma_cientifica.convertir_a_notacion_cientifica()\n",
        "\n",
        "print(f\"El número {numero_decimal} en notación científica es {resultado}\")\n"
      ],
      "metadata": {
        "colab": {
          "base_uri": "https://localhost:8080/"
        },
        "id": "jKqANWzLhHuB",
        "outputId": "9c3eae10-13aa-4cd9-e90e-1d1a60c19f37"
      },
      "execution_count": 16,
      "outputs": [
        {
          "output_type": "stream",
          "name": "stdout",
          "text": [
            "El número 12345.6789 en notación científica es 1.23456789 x 10^4\n"
          ]
        }
      ]
    }
  ]
}